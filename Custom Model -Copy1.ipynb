{
 "cells": [
  {
   "cell_type": "code",
   "execution_count": 1,
   "metadata": {},
   "outputs": [],
   "source": [
    "# Import and load the spacy model\n",
    "import spacy\n",
    "from tqdm import tqdm\n",
    "from spacy import Language\n",
    "import random \n",
    "\n",
    "nlp=spacy.load(\"en_core_web_sm\") \n",
    "\n",
    "# Getting the ner component\n",
    "ner=nlp.get_pipe('ner')"
   ]
  },
  {
   "cell_type": "code",
   "execution_count": 2,
   "metadata": {},
   "outputs": [],
   "source": [
    "TRAIN_DATA = [ (\"My name is Raghav\", {\"entities\": [(11,17,\"PERSON\")]}),\n",
    "             (\"My name is Padmavathy\",{\"entities\": [(11,21,\"PERSON\")]} ),\n",
    "             (\"Koushik is my name\",{\"entities\": [(0,7,\"PERSON\")]}),\n",
    "             (\"Who is Naveen?\",{\"entities\": [(7,13,\"PERSON\")]}),\n",
    "             (\"Sheikh studies in Singapore\",{\"entities\": [(0,6,\"PERSON\")]}),\n",
    "             (\"Akash plays football\",{\"entities\": [(0,5,\"PERSON\")]}),\n",
    "             (\"Rahul plays cricket\",{\"entities\": [(0,5,\"PERSON\")]}),\n",
    "             (\"Sandeep is a good man\",{\"entities\": [(0,7,\"PERSON\")]}),\n",
    "             (\"Sanjeev is a good man\",{\"entities\": [(0,7,\"PERSON\")]}),\n",
    "             (\"Jean-Sébastien\",{\"entities\": [(0,13,\"PERSON\")]}),\n",
    "             (\"Srihari is IT developer\",{\"entities\": [(0,7,\"PERSON\")]}),\n",
    "             (\"Sheryas is IT developer\",{\"entities\": [(0,7,\"PERSON\")]}),\n",
    "             (\"Madhav is IT developer\",{\"entities\": [(0,6,\"PERSON\")]}),\n",
    "              (\"Siva can play football\",{\"entities\": [(0,4,\"PERSON\")]}),\n",
    "              (\"Kumar Singh Patel\",{\"entities\": [(0,5,\"PERSON\"),(6,11,\"PERSON\"),(12,17,\"PERSON\")]}),\n",
    "              (\"SURYA AKASH RAMESH\",{\"entities\": [(0,5,\"PERSON\"),(6,11,\"PERSON\"),(12,18,\"PERSON\")]}),\n",
    "             (\"B.TECH degree\",{\"entities\": [(0,6,\"QUALIFICATION\")]}),\n",
    "             (\"B.B.A degree\",{\"entities\": [(0,5,\"QUALIFICATION\")]}),\n",
    "             (\"MBBS or M.B.B.S degree\",{\"entities\": [(0,4,\"QUALIFICATION\"),(8,15,\"Qualification\")]}),\n",
    "             (\"Diploma in Agriculture degree\",{\"entities\": [(0,22,\"QUALIFICATION\")]}),\n",
    "              (\"He did his B.Sc in University of Leeds\",{\"entities\": [(11,15,\"QUALIFICATION\")]}),\n",
    "             (\"Bachelor of Law is a Law degree\",{\"entities\": [(0,15,\"QUALIFICATION\")]}),\n",
    "             (\"Bachelor of Commerce is a dgree\",{\"entities\": [(0,15,\"QUALIFICATION\")]}),\n",
    "             (\"I have gotten a degree in Bachelor of Architecture\",{\"entities\": [(26,49,\"QUALIFICATION\")]}),\n",
    "             (\"Diploma in Science is my degree\",{\"entities\": [(0,18,\"QUALIFICATION\")]}),\n",
    "             (\"Diploma in Engineering is my degree\",{\"entities\": [(0,22,\"QUALIFICATION\")]}),\n",
    "             (\"I have done diploma in mathematics\",{\"entities\": [(12,34,\"QUALIFICATION\")]}),\n",
    "              (\"I have done PHD in mathematics\",{\"entities\": [(12,30,\"QUALIFICATION\")]}),\n",
    "             (\"I excel in C++.\",{\"entities\": [(11,14,\"SKILL\")]}),\n",
    "              (\"I excel in Java and C#.\",{\"entities\": [(11,15,\"SKILL\"),(20,22,\"SKILL\")]}),\n",
    "             (\"Josh is an UI Designer.\",{\"entities\": [(11,21,\"SKILL\")]}),\n",
    "             (\"I excel in Python, Oracle.\",{\"entities\": [(11,17,\"SKILL\"),(19,25,\"SKILL\")]}),\n",
    "             (\"Microsoft Excel and Android Studio.\",{\"entities\": [(0,15,\"SKILL\"),(20,34,\"SKILL\")]}),\n",
    "             (\"VIT University is good\",{\"entities\": [(0,14,\"INSTITUTION\")]}),\n",
    "              (\"VIT UNIVERISTY is good\",{\"entities\": [(0,14,\"INSTITUTION\")]}),\n",
    "            (\"SRM University is good\",{\"entities\": [(0,14,\"INSTITUTION\")]}),\n",
    "            (\"Univeristy of Leeds is good\",{\"entities\": [(0,19,\"INSTITUTION\")]}),\n",
    "            (\"UNIVERSITY OF GLASGOW is good\",{\"entities\": [(0,21,\"INSTITUTION\")]}),\n",
    "             (\"University of Manchester is good\",{\"entities\": [(0,24,\"INSTITUTION\")]}),\n",
    "             (\"university of manchester is good\",{\"entities\": [(0,24,\"INSTITUTION\")]}),\n",
    "             (\"Institution of Health is good\",{\"entities\": [(0,21,\"INSTITUTION\")]}),\n",
    "(\"Institution of Health is good\",{\"entities\": [(0,21,\"INSTITUTION\")]}),\n",
    "             (\"Institution of Art is good\",{\"entities\": [(0,21,\"INSTITUTION\")]}),\n",
    "             (\"Indian Institute of Technology is good\",{\"entities\": [(0,30,\"INSTITUTION\")]}),\n",
    "             (\"National Institute of Technology is good\",{\"entities\": [(0,33,\"INSTITUTION\")]}),\n",
    "             (\"Alabama University is good\",{\"entities\": [(0,18,\"INSTITUTION\")]}),\n",
    "             (\"alabama university is good\",{\"entities\": [(0,18,\"INSTITUTION\")]}),\n",
    "              (\"madras university is good\",{\"entities\": [(0,17,\"INSTITUTION\")]})]\n",
    "\n"
   ]
  },
  {
   "cell_type": "code",
   "execution_count": 3,
   "metadata": {},
   "outputs": [
    {
     "name": "stdout",
     "output_type": "stream",
     "text": [
      "Created blank 'en' model\n"
     ]
    }
   ],
   "source": [
    "model = None\n",
    "\n",
    "\n",
    "if model is not None:\n",
    "    nlp = spacy.load(model)  \n",
    "    print(\"Loaded model '%s'\" % model)\n",
    "else:\n",
    "    nlp = spacy.blank('en')  \n",
    "    print(\"Created blank 'en' model\")"
   ]
  },
  {
   "cell_type": "code",
   "execution_count": 4,
   "metadata": {},
   "outputs": [],
   "source": [
    "import random\n",
    "import spacy\n",
    "from tqdm import tqdm\n",
    "from spacy.training import Example\n",
    "\n",
    "def train_spacy(data,iterations):\n",
    "    nlp = spacy.load('en_core_web_sm') \n",
    "    \n",
    "    if 'ner' not in nlp.pipe_names:       \n",
    "        ner = nlp.add_pipe('ner', last=True)\n",
    "    else:\n",
    "        ner = nlp.get_pipe(\"ner\")\n",
    "\n",
    "    for _, annotations in data:\n",
    "         for ent in annotations.get('entities'):\n",
    "            ner.add_label(ent[2])\n",
    "            \n",
    "    other_pipes = [pipe for pipe in nlp.pipe_names if pipe != 'ner']\n",
    "    \n",
    "    with nlp.disable_pipes(*other_pipes):  # only train NER\n",
    "        optimizer = nlp.resume_training()\n",
    "        \n",
    "        for itn in range(20):\n",
    "            random.shuffle(TRAIN_DATA)\n",
    "            losses = {}\n",
    "            for text, annotations in tqdm(TRAIN_DATA):\n",
    "                doc = nlp.make_doc(text)\n",
    "                example = Example.from_dict(doc, annotations)\n",
    "                nlp.update([example], drop = 0.2, sgd = optimizer, losses = losses)\n",
    "            print(losses)\n",
    "            \n",
    "        return nlp"
   ]
  },
  {
   "cell_type": "code",
   "execution_count": 6,
   "metadata": {},
   "outputs": [
    {
     "name": "stderr",
     "output_type": "stream",
     "text": [
      "100%|██████████| 48/48 [00:03<00:00, 15.69it/s]\n",
      "  4%|▍         | 2/48 [00:00<00:02, 15.49it/s]"
     ]
    },
    {
     "name": "stdout",
     "output_type": "stream",
     "text": [
      "{'ner': 80.7058596697072}\n"
     ]
    },
    {
     "name": "stderr",
     "output_type": "stream",
     "text": [
      "100%|██████████| 48/48 [00:02<00:00, 16.00it/s]\n",
      "  4%|▍         | 2/48 [00:00<00:03, 11.75it/s]"
     ]
    },
    {
     "name": "stdout",
     "output_type": "stream",
     "text": [
      "{'ner': 74.14274874739188}\n"
     ]
    },
    {
     "name": "stderr",
     "output_type": "stream",
     "text": [
      "100%|██████████| 48/48 [00:02<00:00, 16.22it/s]\n",
      "  4%|▍         | 2/48 [00:00<00:02, 16.64it/s]"
     ]
    },
    {
     "name": "stdout",
     "output_type": "stream",
     "text": [
      "{'ner': 55.50993596904982}\n"
     ]
    },
    {
     "name": "stderr",
     "output_type": "stream",
     "text": [
      "100%|██████████| 48/48 [00:03<00:00, 13.37it/s]\n",
      "  4%|▍         | 2/48 [00:00<00:03, 11.69it/s]"
     ]
    },
    {
     "name": "stdout",
     "output_type": "stream",
     "text": [
      "{'ner': 33.15137983432934}\n"
     ]
    },
    {
     "name": "stderr",
     "output_type": "stream",
     "text": [
      "100%|██████████| 48/48 [00:04<00:00, 11.37it/s]\n",
      "  4%|▍         | 2/48 [00:00<00:03, 12.48it/s]"
     ]
    },
    {
     "name": "stdout",
     "output_type": "stream",
     "text": [
      "{'ner': 44.04870152029881}\n"
     ]
    },
    {
     "name": "stderr",
     "output_type": "stream",
     "text": [
      "100%|██████████| 48/48 [00:04<00:00, 11.83it/s]\n",
      "  4%|▍         | 2/48 [00:00<00:03, 13.18it/s]"
     ]
    },
    {
     "name": "stdout",
     "output_type": "stream",
     "text": [
      "{'ner': 27.252087214957616}\n"
     ]
    },
    {
     "name": "stderr",
     "output_type": "stream",
     "text": [
      "100%|██████████| 48/48 [00:03<00:00, 13.00it/s]\n",
      "  2%|▏         | 1/48 [00:00<00:04,  9.50it/s]"
     ]
    },
    {
     "name": "stdout",
     "output_type": "stream",
     "text": [
      "{'ner': 20.029851671852363}\n"
     ]
    },
    {
     "name": "stderr",
     "output_type": "stream",
     "text": [
      "100%|██████████| 48/48 [00:03<00:00, 12.82it/s]\n",
      "  4%|▍         | 2/48 [00:00<00:03, 12.00it/s]"
     ]
    },
    {
     "name": "stdout",
     "output_type": "stream",
     "text": [
      "{'ner': 12.374700204202862}\n"
     ]
    },
    {
     "name": "stderr",
     "output_type": "stream",
     "text": [
      "100%|██████████| 48/48 [00:03<00:00, 12.36it/s]\n",
      "  4%|▍         | 2/48 [00:00<00:03, 14.32it/s]"
     ]
    },
    {
     "name": "stdout",
     "output_type": "stream",
     "text": [
      "{'ner': 17.26465986264204}\n"
     ]
    },
    {
     "name": "stderr",
     "output_type": "stream",
     "text": [
      "100%|██████████| 48/48 [00:04<00:00, 11.93it/s]\n",
      "  4%|▍         | 2/48 [00:00<00:03, 15.26it/s]"
     ]
    },
    {
     "name": "stdout",
     "output_type": "stream",
     "text": [
      "{'ner': 8.642976324704126}\n"
     ]
    },
    {
     "name": "stderr",
     "output_type": "stream",
     "text": [
      "100%|██████████| 48/48 [00:03<00:00, 12.47it/s]\n",
      "  4%|▍         | 2/48 [00:00<00:03, 12.08it/s]"
     ]
    },
    {
     "name": "stdout",
     "output_type": "stream",
     "text": [
      "{'ner': 9.030970819556186}\n"
     ]
    },
    {
     "name": "stderr",
     "output_type": "stream",
     "text": [
      "100%|██████████| 48/48 [00:03<00:00, 13.29it/s]\n",
      "  4%|▍         | 2/48 [00:00<00:03, 14.31it/s]"
     ]
    },
    {
     "name": "stdout",
     "output_type": "stream",
     "text": [
      "{'ner': 4.787541798229886}\n"
     ]
    },
    {
     "name": "stderr",
     "output_type": "stream",
     "text": [
      "100%|██████████| 48/48 [00:03<00:00, 14.12it/s]\n",
      "  4%|▍         | 2/48 [00:00<00:03, 12.48it/s]"
     ]
    },
    {
     "name": "stdout",
     "output_type": "stream",
     "text": [
      "{'ner': 5.509872332394733}\n"
     ]
    },
    {
     "name": "stderr",
     "output_type": "stream",
     "text": [
      "100%|██████████| 48/48 [00:03<00:00, 12.99it/s]\n",
      "  4%|▍         | 2/48 [00:00<00:03, 14.23it/s]"
     ]
    },
    {
     "name": "stdout",
     "output_type": "stream",
     "text": [
      "{'ner': 0.14672590997858825}\n"
     ]
    },
    {
     "name": "stderr",
     "output_type": "stream",
     "text": [
      "100%|██████████| 48/48 [00:03<00:00, 13.79it/s]\n",
      "  4%|▍         | 2/48 [00:00<00:03, 14.39it/s]"
     ]
    },
    {
     "name": "stdout",
     "output_type": "stream",
     "text": [
      "{'ner': 1.3729607964754404}\n"
     ]
    },
    {
     "name": "stderr",
     "output_type": "stream",
     "text": [
      "100%|██████████| 48/48 [00:03<00:00, 13.82it/s]\n",
      "  4%|▍         | 2/48 [00:00<00:03, 14.84it/s]"
     ]
    },
    {
     "name": "stdout",
     "output_type": "stream",
     "text": [
      "{'ner': 0.029035975391602478}\n"
     ]
    },
    {
     "name": "stderr",
     "output_type": "stream",
     "text": [
      "100%|██████████| 48/48 [00:03<00:00, 14.11it/s]\n",
      "  4%|▍         | 2/48 [00:00<00:03, 13.70it/s]"
     ]
    },
    {
     "name": "stdout",
     "output_type": "stream",
     "text": [
      "{'ner': 0.004373680929628861}\n"
     ]
    },
    {
     "name": "stderr",
     "output_type": "stream",
     "text": [
      "100%|██████████| 48/48 [00:03<00:00, 13.49it/s]\n",
      "  4%|▍         | 2/48 [00:00<00:03, 12.71it/s]"
     ]
    },
    {
     "name": "stdout",
     "output_type": "stream",
     "text": [
      "{'ner': 0.001611208166040972}\n"
     ]
    },
    {
     "name": "stderr",
     "output_type": "stream",
     "text": [
      "100%|██████████| 48/48 [00:04<00:00, 11.65it/s]\n",
      "  2%|▏         | 1/48 [00:00<00:06,  7.70it/s]"
     ]
    },
    {
     "name": "stdout",
     "output_type": "stream",
     "text": [
      "{'ner': 0.0001133817168165026}\n"
     ]
    },
    {
     "name": "stderr",
     "output_type": "stream",
     "text": [
      "100%|██████████| 48/48 [00:04<00:00, 11.79it/s]"
     ]
    },
    {
     "name": "stdout",
     "output_type": "stream",
     "text": [
      "{'ner': 9.635414035658672e-05}\n"
     ]
    },
    {
     "name": "stderr",
     "output_type": "stream",
     "text": [
      "\n"
     ]
    }
   ],
   "source": [
    "prdnlp = train_spacy(TRAIN_DATA, 20)"
   ]
  },
  {
   "cell_type": "code",
   "execution_count": 16,
   "metadata": {},
   "outputs": [
    {
     "name": "stdout",
     "output_type": "stream",
     "text": [
      "Enter your testing text: 432\n"
     ]
    }
   ],
   "source": [
    "test_text = input(\"Enter your testing text: \")\n",
    "doc = prdnlp(test_text)\n",
    "for ent in doc.ents:\n",
    "    print(ent.text, ent.start_char, ent.end_char, ent.label_)"
   ]
  },
  {
   "cell_type": "code",
   "execution_count": 17,
   "metadata": {},
   "outputs": [
    {
     "name": "stdout",
     "output_type": "stream",
     "text": [
      "Saved model to C:\\Users\\scsra\\Desktop\\Internship\\Resume Parser\\ner\n"
     ]
    }
   ],
   "source": [
    "from pathlib import Path\n",
    "output_dir = \"C:\\\\Users\\\\scsra\\\\Desktop\\\\Internship\\\\Resume Parser\\\\ner\"\n",
    "if output_dir is not None:\n",
    "    output_dir = Path(output_dir)\n",
    "    if not output_dir.exists():\n",
    "        output_dir.mkdir()\n",
    "    prdnlp.to_disk(output_dir)\n",
    "    print(\"Saved model to\", output_dir)"
   ]
  },
  {
   "cell_type": "code",
   "execution_count": 10,
   "metadata": {},
   "outputs": [
    {
     "name": "stdout",
     "output_type": "stream",
     "text": [
      "Loading from C:\\Users\\scsra\\Desktop\\Internship\\Resume Parser\\ner\n"
     ]
    }
   ],
   "source": [
    "print(\"Loading from\", output_dir)\n",
    "nlp1 = spacy.load(output_dir)"
   ]
  },
  {
   "cell_type": "code",
   "execution_count": null,
   "metadata": {},
   "outputs": [],
   "source": [
    "for text, _ in TRAIN_DATA:\n",
    "    doc = nlp1(text)\n",
    "    print('Entities', [(ent.text, ent.label_) for ent in doc.ents])\n",
    "    print('Tokens', [(t.text, t.ent_type_, t.ent_iob) for t in doc])"
   ]
  },
  {
   "cell_type": "code",
   "execution_count": null,
   "metadata": {},
   "outputs": [],
   "source": [
    "output_dir = \"C:\\\\Users\\\\scsra\\\\Desktop\\\\Internship\\\\Resume Parser\\\\ner\"\n",
    "nlp1 = spacy.load(output_dir)"
   ]
  },
  {
   "cell_type": "code",
   "execution_count": null,
   "metadata": {},
   "outputs": [],
   "source": [
    "test_text = input(\"Enter your testing text: \")\n",
    "doc = nlp1(test_text)\n",
    "for ent in doc.ents:\n",
    "    print(ent.text, ent.start_char, ent.end_char, ent.label_)"
   ]
  },
  {
   "cell_type": "code",
   "execution_count": null,
   "metadata": {},
   "outputs": [],
   "source": []
  },
  {
   "cell_type": "code",
   "execution_count": null,
   "metadata": {},
   "outputs": [],
   "source": []
  }
 ],
 "metadata": {
  "kernelspec": {
   "display_name": "Python 3",
   "language": "python",
   "name": "python3"
  },
  "language_info": {
   "codemirror_mode": {
    "name": "ipython",
    "version": 3
   },
   "file_extension": ".py",
   "mimetype": "text/x-python",
   "name": "python",
   "nbconvert_exporter": "python",
   "pygments_lexer": "ipython3",
   "version": "3.7.9"
  }
 },
 "nbformat": 4,
 "nbformat_minor": 4
}
